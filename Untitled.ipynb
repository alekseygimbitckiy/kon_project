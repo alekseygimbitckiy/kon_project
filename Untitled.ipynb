{
 "cells": [
  {
   "cell_type": "code",
   "execution_count": 1,
   "id": "10e3eb68",
   "metadata": {},
   "outputs": [
    {
     "name": "stdout",
     "output_type": "stream",
     "text": [
      "1000\n",
      "1000\n",
      "1000\n",
      "1000\n",
      "1000\n"
     ]
    }
   ],
   "source": [
    "import numpy as np\n",
    "import csv\n",
    "from sklearn.model_selection import train_test_split\n",
    "# from catboost import CatBoostClassifier\n",
    "\n",
    "output_folder = 'dataset'\n",
    "gests = ['fire', 'water', 'stone', 'wind', 'kon']\n",
    "X = {}\n",
    "\n",
    "for gest in  gests:\n",
    "    file = open(output_folder + '/' + 'gest_' + gest + '.csv')\n",
    "    X[gest] = []\n",
    "    for row in file:\n",
    "        X[gest].append(np.array(row.split(','), dtype= float))\n",
    "        \n",
    "for gest in gests:\n",
    "    X[gest] = np.array(X[gest])\n",
    "    print(len(X[gest]))"
   ]
  },
  {
   "cell_type": "code",
   "execution_count": 2,
   "id": "74115465",
   "metadata": {},
   "outputs": [],
   "source": [
    "data = {}\n",
    "for gest in gests:\n",
    "    data[gest] = np.hstack([X[gest][:-2], X[gest][1:-1], X[gest][2:]])"
   ]
  },
  {
   "cell_type": "code",
   "execution_count": 3,
   "id": "72daa65c",
   "metadata": {},
   "outputs": [],
   "source": [
    "X = []\n",
    "y = []\n",
    "\n",
    "for i, gest in enumerate(gests):\n",
    "    target = np.zeros(5)\n",
    "    target[i] = 1\n",
    "    for feature in data[gest]:\n",
    "        X.append(feature)\n",
    "        y.append(target)\n",
    "        \n",
    "X = np.array(X)\n",
    "y = np.array(y).reshape(-1, 5)"
   ]
  },
  {
   "cell_type": "code",
   "execution_count": 6,
   "id": "f278b55b",
   "metadata": {},
   "outputs": [
    {
     "data": {
      "text/plain": [
       "(4990, 378)"
      ]
     },
     "execution_count": 6,
     "metadata": {},
     "output_type": "execute_result"
    }
   ],
   "source": [
    "data['fire'].shape"
   ]
  },
  {
   "cell_type": "code",
   "execution_count": 10,
   "id": "d5c811c3",
   "metadata": {},
   "outputs": [],
   "source": [
    "X_train, X_test, y_train, y_test = train_test_split(X, y, test_size= 0.1)"
   ]
  },
  {
   "cell_type": "code",
   "execution_count": 11,
   "id": "e9095af5",
   "metadata": {},
   "outputs": [
    {
     "ename": "NameError",
     "evalue": "name 'CatBoostClassifier' is not defined",
     "output_type": "error",
     "traceback": [
      "\u001b[0;31m---------------------------------------------------------------------------\u001b[0m",
      "\u001b[0;31mNameError\u001b[0m                                 Traceback (most recent call last)",
      "Cell \u001b[0;32mIn[11], line 1\u001b[0m\n\u001b[0;32m----> 1\u001b[0m model \u001b[38;5;241m=\u001b[39m \u001b[43mCatBoostClassifier\u001b[49m()\n\u001b[1;32m      3\u001b[0m model\u001b[38;5;241m.\u001b[39mfit(X_train, y_train)\n\u001b[1;32m      4\u001b[0m \u001b[38;5;28mprint\u001b[39m(model\u001b[38;5;241m.\u001b[39mscore(X_test, y_test))\n",
      "\u001b[0;31mNameError\u001b[0m: name 'CatBoostClassifier' is not defined"
     ]
    }
   ],
   "source": [
    "model = CatBoostClassifier()\n",
    "\n",
    "model.fit(X_train, y_train)\n",
    "print(model.score(X_test, y_test))"
   ]
  },
  {
   "cell_type": "code",
   "execution_count": null,
   "id": "c1347bbe",
   "metadata": {},
   "outputs": [],
   "source": []
  }
 ],
 "metadata": {
  "kernelspec": {
   "display_name": "Python 3 (ipykernel)",
   "language": "python",
   "name": "python3"
  },
  "language_info": {
   "codemirror_mode": {
    "name": "ipython",
    "version": 3
   },
   "file_extension": ".py",
   "mimetype": "text/x-python",
   "name": "python",
   "nbconvert_exporter": "python",
   "pygments_lexer": "ipython3",
   "version": "3.10.9"
  }
 },
 "nbformat": 4,
 "nbformat_minor": 5
}
